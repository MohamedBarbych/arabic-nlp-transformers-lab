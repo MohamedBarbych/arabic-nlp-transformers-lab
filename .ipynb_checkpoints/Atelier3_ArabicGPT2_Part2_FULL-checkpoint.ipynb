{
 "cells": [
  {
   "cell_type": "markdown",
   "id": "c8a60810",
   "metadata": {},
   "source": [
    "\n",
    "# 🤖 Atelier 3 – Part 2: Fine-tuning Arabic GPT-2 (aragpt2-base)\n",
    "\n",
    "**Université Abdelmalek Essaadi – Master MBD**\n",
    "\n",
    "In this notebook, we fine-tune a **pretrained Arabic GPT-2 model** (`aubmindlab/aragpt2-base`) and generate text from a custom Arabic dataset.\n"
   ]
  },
  {
   "cell_type": "code",
   "execution_count": null,
   "id": "e5083777",
   "metadata": {},
   "outputs": [],
   "source": [
    "\n",
    "!pip install transformers\n"
   ]
  },
  {
   "cell_type": "code",
   "execution_count": null,
   "id": "ea10e23f",
   "metadata": {},
   "outputs": [],
   "source": [
    "\n",
    "import torch\n",
    "from transformers import GPT2Tokenizer, GPT2LMHeadModel, get_scheduler\n",
    "from torch.optim import AdamW\n",
    "\n",
    "device = torch.device(\"cuda\" if torch.cuda.is_available() else \"cpu\")\n",
    "\n",
    "tokenizer = GPT2Tokenizer.from_pretrained(\"aubmindlab/aragpt2-base\")\n",
    "tokenizer.pad_token = tokenizer.eos_token\n",
    "\n",
    "model = GPT2LMHeadModel.from_pretrained(\"aubmindlab/aragpt2-base\")\n",
    "model.resize_token_embeddings(len(tokenizer))\n",
    "model = model.to(device)\n"
   ]
  },
  {
   "cell_type": "markdown",
   "id": "cd72a0fe",
   "metadata": {},
   "source": [
    "## 📄 Step 1: Prepare Custom Arabic Dataset"
   ]
  },
  {
   "cell_type": "code",
   "execution_count": null,
   "id": "1d50389a",
   "metadata": {},
   "outputs": [],
   "source": [
    "\n",
    "from torch.utils.data import Dataset, DataLoader\n",
    "\n",
    "# Save a small Arabic dataset\n",
    "with open(\"arabic_data.txt\", \"w\", encoding=\"utf-8\") as f:\n",
    "    f.write(\"الملك يترأس اجتماعًا وزاريًا مهمًا\n",
    "\")\n",
    "    f.write(\"اجتماع بين وزراء الخارجية في المغرب\n",
    "\")\n",
    "    f.write(\"المملكة تطور شراكات استراتيجية جديدة\n",
    "\")\n",
    "    f.write(\"وزير الصحة يعلن عن حملة وطنية للتلقيح\n",
    "\")\n",
    "    f.write(\"البرلمان يصادق على قانون المالية الجديد\n",
    "\")\n",
    "\n",
    "class ArabicDataset(Dataset):\n",
    "    def __init__(self, path='arabic_data.txt'):\n",
    "        with open(path, 'r', encoding='utf-8') as f:\n",
    "            lines = f.readlines()\n",
    "        self.samples = [line.strip() + \" <|endoftext|>\" for line in lines if line.strip()]\n",
    "        \n",
    "    def __len__(self):\n",
    "        return len(self.samples)\n",
    "    \n",
    "    def __getitem__(self, idx):\n",
    "        return self.samples[idx]\n",
    "\n",
    "dataset = ArabicDataset()\n",
    "loader = DataLoader(dataset, batch_size=1, shuffle=True)\n"
   ]
  },
  {
   "cell_type": "markdown",
   "id": "a357703f",
   "metadata": {},
   "source": [
    "## 🔁 Step 2: Fine-tune Arabic GPT-2"
   ]
  },
  {
   "cell_type": "code",
   "execution_count": null,
   "id": "5bb524ed",
   "metadata": {},
   "outputs": [],
   "source": [
    "\n",
    "BATCH_SIZE = 2\n",
    "EPOCHS = 3\n",
    "LEARNING_RATE = 5e-5\n",
    "MAX_SEQ_LEN = 128\n",
    "\n",
    "optimizer = AdamW(model.parameters(), lr=LEARNING_RATE)\n",
    "scheduler = get_scheduler(\"linear\", optimizer=optimizer, num_warmup_steps=10, num_training_steps=EPOCHS * len(loader))\n",
    "\n",
    "model.train()\n",
    "\n",
    "for epoch in range(EPOCHS):\n",
    "    print(f\"Epoch {epoch+1}\")\n",
    "    for i, line in enumerate(loader):\n",
    "        text = line[0]\n",
    "        inputs = tokenizer(text, return_tensors=\"pt\", max_length=MAX_SEQ_LEN, truncation=True, padding=\"max_length\")\n",
    "        inputs[\"labels\"] = inputs[\"input_ids\"]\n",
    "        inputs = {k: v.to(device) for k, v in inputs.items()}\n",
    "\n",
    "        outputs = model(**inputs)\n",
    "        loss = outputs.loss\n",
    "        loss.backward()\n",
    "\n",
    "        optimizer.step()\n",
    "        scheduler.step()\n",
    "        optimizer.zero_grad()\n",
    "        model.zero_grad()\n",
    "\n",
    "        if i % 2 == 0:\n",
    "            print(f\"Batch {i}: Loss = {loss.item():.4f}\")\n"
   ]
  },
  {
   "cell_type": "markdown",
   "id": "0b4b0dae",
   "metadata": {},
   "source": [
    "## ✨ Step 3: Generate Arabic Text"
   ]
  },
  {
   "cell_type": "code",
   "execution_count": null,
   "id": "9f9f404c",
   "metadata": {},
   "outputs": [],
   "source": [
    "\n",
    "model.eval()\n",
    "prompt = \"المغرب\"\n",
    "input_ids = tokenizer.encode(prompt, return_tensors='pt').to(device)\n",
    "\n",
    "with torch.no_grad():\n",
    "    output = model.generate(\n",
    "        input_ids,\n",
    "        max_length=100,\n",
    "        num_return_sequences=1,\n",
    "        do_sample=True,\n",
    "        top_k=50,\n",
    "        top_p=0.95,\n",
    "        temperature=0.9,\n",
    "        pad_token_id=tokenizer.eos_token_id\n",
    "    )\n",
    "\n",
    "generated_text = tokenizer.decode(output[0], skip_special_tokens=True)\n",
    "print(\"📜 Generated Text:\")\n",
    "print(generated_text)\n"
   ]
  },
  {
   "cell_type": "markdown",
   "id": "131e3ada",
   "metadata": {},
   "source": [
    "\n",
    "---\n",
    "\n",
    "## ✅ Conclusion\n",
    "\n",
    "- We fine-tuned `aragpt2-base`, an Arabic GPT-2 model, on a small Arabic dataset.\n",
    "- The model now generates relevant Arabic text from prompts like `\"المغرب\"`.\n",
    "- You can scale this with larger datasets for even better results.\n",
    "\n",
    "🔁 Try adding 100+ lines of real news headlines to make the model more fluent!\n",
    "\n"
   ]
  }
 ],
 "metadata": {},
 "nbformat": 4,
 "nbformat_minor": 5
}
