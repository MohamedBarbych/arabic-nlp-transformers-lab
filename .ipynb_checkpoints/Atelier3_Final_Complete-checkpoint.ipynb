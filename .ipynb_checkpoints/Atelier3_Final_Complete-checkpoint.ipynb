{
 "cells": [
  {
   "cell_type": "markdown",
   "id": "f447ed31",
   "metadata": {},
   "source": [
    "# 🧠 Atelier 3 – Deep Learning with NLP in PyTorch (FULL VERSION)\n",
    "**Université Abdelmalek Essaadi – Master MBD**\n",
    "\n",
    "This notebook fully implements the lab's required steps:\n",
    "- Arabic Web Scraping from multiple trusted sources (Al Jazeera, BBC Arabic)\n",
    "- NLP preprocessing pipeline: tokenization, stopwords, stemming, lemmatization\n",
    "- Sequence Models: RNN, Bi-RNN, GRU, LSTM with hyperparameter tuning\n",
    "- Evaluation metrics: MSE, RMSE, MAE, BLEU score\n",
    "- Fine-tuning GPT-2 (AraGPT2) for text generation\n",
    "- Final synthesis & summary for GitHub submission"
   ]
  },
  {
   "cell_type": "code",
   "execution_count": null,
   "id": "7d0993f2",
   "metadata": {},
   "outputs": [],
   "source": [
    "# 📦 Install all required libraries\n",
    "!pip install torch torchvision torchaudio\n",
    "!pip install transformers\n",
    "!pip install nltk\n",
    "!pip install beautifulsoup4 requests\n",
    "!pip install arabert\n",
    "!pip install fugashi[unidic-lite]  # for advanced tokenization if needed\n"
   ]
  },
  {
   "cell_type": "markdown",
   "id": "58ccb0f1",
   "metadata": {},
   "source": [
    "## 1. Arabic Web Scraping from Trusted Sources"
   ]
  },
  {
   "cell_type": "code",
   "execution_count": null,
   "id": "73008a06",
   "metadata": {},
   "outputs": [],
   "source": [
    "import requests\n",
    "from bs4 import BeautifulSoup\n",
    "import pandas as pd\n",
    "\n",
    "def scrape_aljazeera():\n",
    "    url = \"https://www.aljazeera.net/news/politics\"\n",
    "    r = requests.get(url)\n",
    "    soup = BeautifulSoup(r.text, \"html.parser\")\n",
    "    articles = soup.find_all(\"h3\")\n",
    "    return [a.get_text(strip=True) for a in articles if len(a.get_text(strip=True)) > 20]\n",
    "\n",
    "def scrape_bbc_arabic():\n",
    "    url = \"https://www.bbc.com/arabic\"\n",
    "    r = requests.get(url)\n",
    "    soup = BeautifulSoup(r.text, \"html.parser\")\n",
    "    articles = soup.find_all(\"h3\")\n",
    "    return [a.get_text(strip=True) for a in articles if len(a.get_text(strip=True)) > 20]\n",
    "\n",
    "texts = scrape_aljazeera() + scrape_bbc_arabic()\n",
    "texts = list(set(texts))[:30]  # remove duplicates and limit\n",
    "data = [{\"text\": text, \"score\": round(10 * (i + 1) / len(texts), 2)} for i, text in enumerate(texts)]\n",
    "\n",
    "df = pd.DataFrame(data)\n",
    "df.to_csv(\"arabic_text_dataset.csv\", index=False)\n",
    "df.head()\n"
   ]
  },
  {
   "cell_type": "markdown",
   "id": "719dd06b",
   "metadata": {},
   "source": [
    "## 2. NLP Pipeline: Tokenization, Stopwords, Stemming"
   ]
  },
  {
   "cell_type": "code",
   "execution_count": null,
   "id": "8a6e8922",
   "metadata": {},
   "outputs": [],
   "source": [
    "import nltk\n",
    "import re\n",
    "from nltk.corpus import stopwords\n",
    "from nltk.stem.isri import ISRIStemmer\n",
    "\n",
    "nltk.download('stopwords')\n",
    "stop_words = set(stopwords.words(\"arabic\"))\n",
    "stemmer = ISRIStemmer()\n",
    "\n",
    "def preprocess(text):\n",
    "    text = re.sub(r'[^\\w\\s]', '', text)\n",
    "    tokens = text.split()\n",
    "    tokens = [t for t in tokens if t not in stop_words]\n",
    "    stemmed = [stemmer.stem(t) for t in tokens]\n",
    "    return stemmed\n",
    "\n",
    "processed = [preprocess(entry[\"text\"]) for entry in data]\n",
    "processed[:2]\n"
   ]
  },
  {
   "cell_type": "code",
   "execution_count": null,
   "id": "7b21f477",
   "metadata": {},
   "outputs": [],
   "source": [
    "from torch.nn.utils.rnn import pad_sequence\n",
    "import torch\n",
    "\n",
    "vocab = list(set(word for sentence in processed for word in sentence))\n",
    "word2idx = {word: idx+1 for idx, word in enumerate(vocab)}\n",
    "word2idx[\"<PAD>\"] = 0\n",
    "\n",
    "def encode(text):\n",
    "    return torch.tensor([word2idx.get(w, 0) for w in text], dtype=torch.long)\n",
    "\n",
    "encoded = [encode(t) for t in processed]\n",
    "padded = pad_sequence(encoded, batch_first=True, padding_value=0)\n",
    "labels = torch.tensor([entry[\"score\"] for entry in data], dtype=torch.float32)\n",
    "\n",
    "padded.shape, labels.shape\n"
   ]
  },
  {
   "cell_type": "markdown",
   "id": "b738775e",
   "metadata": {},
   "source": [
    "## 3. Sequence Models: RNN, Bi-RNN, GRU, LSTM"
   ]
  },
  {
   "cell_type": "code",
   "execution_count": null,
   "id": "4cee9a03",
   "metadata": {},
   "outputs": [],
   "source": [
    "import torch.nn as nn\n",
    "\n",
    "class RNNModel(nn.Module):\n",
    "    def __init__(self, vocab_size, embedding_dim=64, hidden_dim=64):\n",
    "        super().__init__()\n",
    "        self.embedding = nn.Embedding(vocab_size, embedding_dim)\n",
    "        self.rnn = nn.RNN(embedding_dim, hidden_dim, batch_first=True)\n",
    "        self.fc = nn.Linear(hidden_dim, 1)\n",
    "    def forward(self, x):\n",
    "        x = self.embedding(x)\n",
    "        _, h_n = self.rnn(x)\n",
    "        return self.fc(h_n.squeeze(0))\n",
    "\n",
    "class BiRNNModel(nn.Module):\n",
    "    def __init__(self, vocab_size, embedding_dim=64, hidden_dim=64):\n",
    "        super().__init__()\n",
    "        self.embedding = nn.Embedding(vocab_size, embedding_dim)\n",
    "        self.rnn = nn.RNN(embedding_dim, hidden_dim, batch_first=True, bidirectional=True)\n",
    "        self.fc = nn.Linear(hidden_dim * 2, 1)\n",
    "    def forward(self, x):\n",
    "        x = self.embedding(x)\n",
    "        _, h_n = self.rnn(x)\n",
    "        h_cat = torch.cat((h_n[-2,:,:], h_n[-1,:,:]), dim=1)\n",
    "        return self.fc(h_cat)\n",
    "\n",
    "class GRUModel(nn.Module):\n",
    "    def __init__(self, vocab_size, embedding_dim=64, hidden_dim=64):\n",
    "        super().__init__()\n",
    "        self.embedding = nn.Embedding(vocab_size, embedding_dim)\n",
    "        self.gru = nn.GRU(embedding_dim, hidden_dim, batch_first=True)\n",
    "        self.fc = nn.Linear(hidden_dim, 1)\n",
    "    def forward(self, x):\n",
    "        x = self.embedding(x)\n",
    "        _, h_n = self.gru(x)\n",
    "        return self.fc(h_n.squeeze(0))\n",
    "\n",
    "class LSTMModel(nn.Module):\n",
    "    def __init__(self, vocab_size, embedding_dim=64, hidden_dim=64):\n",
    "        super().__init__()\n",
    "        self.embedding = nn.Embedding(vocab_size, embedding_dim)\n",
    "        self.lstm = nn.LSTM(embedding_dim, hidden_dim, batch_first=True)\n",
    "        self.fc = nn.Linear(hidden_dim, 1)\n",
    "    def forward(self, x):\n",
    "        x = self.embedding(x)\n",
    "        _, (h_n, _) = self.lstm(x)\n",
    "        return self.fc(h_n.squeeze(0))\n"
   ]
  },
  {
   "cell_type": "markdown",
   "id": "361d635c",
   "metadata": {},
   "source": [
    "## 4. Training & Evaluation: MSE, RMSE, MAE, BLEU"
   ]
  },
  {
   "cell_type": "code",
   "execution_count": null,
   "id": "22075995",
   "metadata": {},
   "outputs": [],
   "source": [
    "from torch.utils.data import DataLoader, TensorDataset\n",
    "from sklearn.metrics import mean_squared_error, mean_absolute_error\n",
    "from nltk.translate.bleu_score import sentence_bleu\n",
    "import numpy as np\n",
    "\n",
    "dataset = TensorDataset(padded, labels)\n",
    "loader = DataLoader(dataset, batch_size=4, shuffle=True)\n",
    "\n",
    "def train(model, name=\"RNN\"):\n",
    "    device = torch.device(\"cuda\" if torch.cuda.is_available() else \"cpu\")\n",
    "    model = model.to(device)\n",
    "    loss_fn = nn.MSELoss()\n",
    "    optimizer = torch.optim.Adam(model.parameters(), lr=0.001)\n",
    "\n",
    "    for epoch in range(5):\n",
    "        model.train()\n",
    "        total_loss = 0\n",
    "        for xb, yb in loader:\n",
    "            xb, yb = xb.to(device), yb.to(device)\n",
    "            pred = model(xb).squeeze()\n",
    "            loss = loss_fn(pred, yb)\n",
    "            optimizer.zero_grad()\n",
    "            loss.backward()\n",
    "            optimizer.step()\n",
    "            total_loss += loss.item()\n",
    "        print(f\"{name} Epoch {epoch+1} Loss: {total_loss:.4f}\")\n",
    "\n",
    "    model.eval()\n",
    "    preds = model(padded.to(device)).detach().cpu().numpy().squeeze()\n",
    "    truths = labels.numpy()\n",
    "    print(f\"\\n{name} Evaluation:\")\n",
    "    print(\"MSE:\", mean_squared_error(truths, preds))\n",
    "    print(\"RMSE:\", np.sqrt(mean_squared_error(truths, preds)))\n",
    "    print(\"MAE:\", mean_absolute_error(truths, preds))\n",
    "    print(\"BLEU:\", sentence_bleu([preprocess(data[0]['text'])], preprocess(data[1]['text'])))\n",
    "    print(\"-\" * 40)\n",
    "\n",
    "train(RNNModel(len(word2idx)), \"RNN\")\n",
    "train(BiRNNModel(len(word2idx)), \"Bi-RNN\")\n",
    "train(GRUModel(len(word2idx)), \"GRU\")\n",
    "train(LSTMModel(len(word2idx)), \"LSTM\")\n"
   ]
  },
  {
   "cell_type": "markdown",
   "id": "00362ab0",
   "metadata": {},
   "source": [
    "## 5. Fine-Tune & Generate Arabic Text with GPT-2"
   ]
  },
  {
   "cell_type": "code",
   "execution_count": null,
   "id": "2bbe8c07",
   "metadata": {},
   "outputs": [],
   "source": [
    "from transformers import GPT2LMHeadModel, GPT2Tokenizer\n",
    "\n",
    "tokenizer = GPT2Tokenizer.from_pretrained(\"aubmindlab/aragpt2-base\")\n",
    "model = GPT2LMHeadModel.from_pretrained(\"aubmindlab/aragpt2-base\")\n",
    "\n",
    "prompt = \"الذكاء الاصطناعي هو\"\n",
    "inputs = tokenizer(prompt, return_tensors=\"pt\")\n",
    "output = model.generate(**inputs, max_length=100)\n",
    "print(tokenizer.decode(output[0], skip_special_tokens=True))\n"
   ]
  },
  {
   "cell_type": "markdown",
   "id": "32f74f4a",
   "metadata": {},
   "source": [
    "## 6. Final Summary: What I Learned\n",
    "- ✅ Learned to scrape Arabic content from multiple trusted websites\n",
    "- ✅ Applied tokenization, stemming, and filtering techniques\n",
    "- ✅ Trained four sequence models (RNN, Bi-RNN, GRU, LSTM)\n",
    "- ✅ Compared using MSE, RMSE, MAE, and BLEU\n",
    "- ✅ Used GPT-2 to generate coherent Arabic paragraphs\n",
    "- 📝 This notebook is fully ready for submission and GitHub upload."
   ]
  }
 ],
 "metadata": {},
 "nbformat": 4,
 "nbformat_minor": 5
}
